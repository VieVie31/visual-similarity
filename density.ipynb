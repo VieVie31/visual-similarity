{
 "metadata": {
  "language_info": {
   "codemirror_mode": {
    "name": "ipython",
    "version": 3
   },
   "file_extension": ".py",
   "mimetype": "text/x-python",
   "name": "python",
   "nbconvert_exporter": "python",
   "pygments_lexer": "ipython3",
   "version": "3.9.1"
  },
  "orig_nbformat": 2,
  "kernelspec": {
   "name": "python391jvsc74a57bd000a931e2029f8e17d06eabf78468d28cb8714d5c08abc7675dd0bd7682f2e9cc",
   "display_name": "Python 3.9.1 64-bit"
  }
 },
 "nbformat": 4,
 "nbformat_minor": 2,
 "cells": [
  {
   "cell_type": "code",
   "execution_count": 1,
   "metadata": {},
   "outputs": [],
   "source": [
    "device = 'cpu'\n",
    "R = 1"
   ]
  },
  {
   "cell_type": "code",
   "execution_count": null,
   "metadata": {},
   "outputs": [],
   "source": [
    "import torch\n",
    "import torch.nn as nn\n",
    "import numpy as np\n",
    "\n",
    "from dataset import EmbDataset\n",
    "from pathlib import Path"
   ]
  },
  {
   "cell_type": "code",
   "execution_count": 33,
   "metadata": {},
   "outputs": [],
   "source": [
    "path = Path('C:/Users/Amine/Desktop/real features/saved_features/AdaptationProcessor/BiT-M-R50x1_in21k/BiT-M-R50x1_in21k_with_pca_256.npy')\n",
    "dataset = EmbDataset(path, only_original=False)\n",
    "data = dataset.load_all_to_device(device)\n",
    "\n",
    "def euc_dist(a, b):\n",
    "    return np.linalg.norm(a-b)"
   ]
  },
  {
   "cell_type": "code",
   "execution_count": 78,
   "metadata": {},
   "outputs": [],
   "source": [
    "def density(embds, distance_func, radius):\n",
    "    def calc_how_many_in_circle(embd, embds_list, radius):\n",
    "        # s = 0\n",
    "        # for i, e in enumerate(embds_list):\n",
    "        #     if (distance_func(embd, e) <= radius) and not np.any(e != embd):\n",
    "        #         s+=1\n",
    "\n",
    "        # return s\n",
    "        return sum([1 if distance_func(embd, e) <= radius and not torch.any(e != embd)\n",
    "                      else 0 \n",
    "                      for e in embds_list \n",
    "                   ])\n",
    "        \n",
    "    d = dict()\n",
    "    d['left'], d['right'] = dict(), dict()\n",
    "\n",
    "    for i, l_embd in enumerate(embds['left']):\n",
    "        d['left'][data['label'][i]] = {'left_to_left'  : calc_how_many_in_circle(l_embd, \n",
    "                                                                                embds['left'], radius),\n",
    "                                       'left_to_right' : calc_how_many_in_circle(l_embd, \n",
    "                                                                                embds['right'], radius),\n",
    "        }\n",
    "\n",
    "    for i, l_embd in enumerate(embds['right']):\n",
    "        d['right'][data['label'][i]] = {'right_to_right'  : calc_how_many_in_circle(l_embd, \n",
    "                                                                                embds['right'], radius),\n",
    "                                    #    \n",
    "                                    # ,\n",
    "        }"
   ]
  },
  {
   "cell_type": "code",
   "execution_count": 79,
   "metadata": {
    "tags": []
   },
   "outputs": [
    {
     "output_type": "stream",
     "name": "stdout",
     "text": [
      "Wall time: 840 ms\n"
     ]
    }
   ],
   "source": [
    "%%time\n",
    "data2 = dict()\n",
    "for k in data.keys():\n",
    "    data2[k] = data[k][:100]\n",
    "\n",
    "density(data2, euc_dist, R)"
   ]
  },
  {
   "cell_type": "code",
   "execution_count": 80,
   "metadata": {},
   "outputs": [
    {
     "output_type": "stream",
     "name": "stdout",
     "text": [
      "Wall time: 28.1 ms\n"
     ]
    },
    {
     "output_type": "execute_result",
     "data": {
      "text/plain": [
       "tensor([[ True, False, False,  ..., False, False, False],\n",
       "        [False,  True, False,  ..., False, False, False],\n",
       "        [False, False,  True,  ..., False, False, False],\n",
       "        ...,\n",
       "        [False, False, False,  ...,  True, False, False],\n",
       "        [False, False, False,  ..., False,  True, False],\n",
       "        [False, False, False,  ..., False, False,  True]])"
      ]
     },
     "metadata": {},
     "execution_count": 80
    }
   ],
   "source": [
    "%%time\n",
    "torch.norm(data['left'][:100, None] - data['right'][:100], dim=2, p=2)\n",
    "torch.norm(data['left'][:100, None] - data['left'][:100], dim=2, p=2) < R\n",
    "torch.norm(data['right'][:100, None] - data['right'][:100], dim=2, p=2)"
   ]
  },
  {
   "cell_type": "code",
   "execution_count": null,
   "metadata": {},
   "outputs": [],
   "source": []
  }
 ]
}